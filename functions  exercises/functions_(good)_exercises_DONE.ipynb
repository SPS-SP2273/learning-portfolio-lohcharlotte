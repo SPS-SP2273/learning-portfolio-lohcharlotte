{
 "cells": [
  {
   "attachments": {},
   "cell_type": "markdown",
   "id": "123456",
   "metadata": {},
   "source": [
    "<div style=\"text-align:left;font-size:2em\"><span style=\"font-weight:bolder;font-size:1.25em\">SP2273 | Learning Portfolio</span><br><br><span style=\"font-weight:bold;color:darkred\">Functions (Good) Exercises</span></div>"
   ]
  },
  {
   "cell_type": "code",
   "execution_count": 3,
   "id": "f5e6386b-843a-4099-b074-a7cd72d64856",
   "metadata": {},
   "outputs": [
    {
     "name": "stdout",
     "output_type": "stream",
     "text": [
      "Temperature in Fahrenheit: 93.2\n",
      "Temperature in Kelvin: 307.15\n"
     ]
    }
   ],
   "source": [
    "def convert_celsius(temperature_celsius, target_scale='Fahrenheit'):\n",
    "    if target_scale == 'Kelvin':\n",
    "        return temperature_celsius + 273.15\n",
    "    elif target_scale == 'Fahrenheit':\n",
    "        return (temperature_celsius * 9/5) + 32\n",
    "    return \"Invalid target scale.\"\n",
    "# example:\n",
    "temperature_celsius = 34\n",
    "converted_temperature = convert_celsius(temperature_celsius)\n",
    "print(\"Temperature in Fahrenheit:\", converted_temperature)\n",
    "\n",
    "converted_temperature_kelvin = convert_celsius(temperature_celsius, 'Kelvin')\n",
    "print(\"Temperature in Kelvin:\", converted_temperature_kelvin)"
   ]
  },
  {
   "cell_type": "code",
   "execution_count": 12,
   "id": "5867387a-3de9-49fa-a904-d2608e12302e",
   "metadata": {},
   "outputs": [
    {
     "name": "stdout",
     "output_type": "stream",
     "text": [
      "Temperature in Celsius: -3.8888888888888893\n",
      "Temperature in Kelvin: 269.26111111111106\n"
     ]
    }
   ],
   "source": [
    "def convert_farenheit(temperature_farenheit, target_scale='Celsius'):\n",
    "    if target_scale == 'Kelvin':\n",
    "        return (temperature_farenheit - 32) * 5/9 + 273.15\n",
    "    elif target_scale == 'Celsius':\n",
    "        return (temperature_farenheit - 32) * (5/9)\n",
    "    return \"Invalid target scale.\"\n",
    "# example: \n",
    "temperature_farenheit = 25\n",
    "converted_temperature = convert_farenheit(temperature_farenheit)\n",
    "print(\"Temperature in Celsius:\", converted_temperature) \n",
    "\n",
    "converted_temperature_kelvin = convert_farenheit(temperature_farenheit, 'Kelvin')\n",
    "print (\"Temperature in Kelvin:\", converted_temperature_kelvin) "
   ]
  },
  {
   "cell_type": "code",
   "execution_count": 15,
   "id": "32972db2-79de-4a5f-96ba-61b48e1242c9",
   "metadata": {},
   "outputs": [
    {
     "name": "stdout",
     "output_type": "stream",
     "text": [
      "Temperature in Fahrenheit: 120.2\n"
     ]
    }
   ],
   "source": [
    "def convert_temperature(temperature, source_scale, target_scale):\n",
    "    if source_scale == 'Celsius':\n",
    "        return convert_celsius(temperature, target_scale)\n",
    "    elif source_scale == 'Fahrenheit':\n",
    "        return convert_fahrenheit(temperature, target_scale)\n",
    "    elif source_scale == 'Kelvin':\n",
    "        temperature_celsius = convert_celsius(temperature, 'Celsius')\n",
    "        return convert_celsius(temperature_celsius, target_scale)\n",
    "    return \"Invalid source scale.\"\n",
    "\n",
    "# example:\n",
    "temperature = 49\n",
    "source_scale = 'Celsius'\n",
    "target_scale = 'Fahrenheit'\n",
    "converted_temperature = convert_temperature(temperature, source_scale, target_scale)\n",
    "print(\"Temperature in\", target_scale + \":\", converted_temperature)"
   ]
  }
 ],
 "metadata": {
  "kernelspec": {
   "display_name": "Python 3 (ipykernel)",
   "language": "python",
   "name": "python3"
  },
  "language_info": {
   "codemirror_mode": {
    "name": "ipython",
    "version": 3
   },
   "file_extension": ".py",
   "mimetype": "text/x-python",
   "name": "python",
   "nbconvert_exporter": "python",
   "pygments_lexer": "ipython3",
   "version": "3.11.5"
  },
  "toc": {
   "base_numbering": 1,
   "nav_menu": {},
   "number_sections": true,
   "sideBar": true,
   "skip_h1_title": false,
   "title_cell": "Table of Contents",
   "title_sidebar": "Contents",
   "toc_cell": false,
   "toc_position": {},
   "toc_section_display": true,
   "toc_window_display": false
  },
  "vscode": {
   "interpreter": {
    "hash": "31f2aee4e71d21fbe5cf8b01ff0e069b9275f58929596ceb00d14d90e3e16cd6"
   }
  }
 },
 "nbformat": 4,
 "nbformat_minor": 5
}
