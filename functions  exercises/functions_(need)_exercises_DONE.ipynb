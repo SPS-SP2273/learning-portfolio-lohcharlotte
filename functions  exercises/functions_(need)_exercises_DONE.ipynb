{
 "cells": [
  {
   "attachments": {},
   "cell_type": "markdown",
   "id": "123456",
   "metadata": {},
   "source": [
    "<div style=\"text-align:left;font-size:2em\"><span style=\"font-weight:bolder;font-size:1.25em\">SP2273 | Learning Portfolio</span><br><br><span style=\"font-weight:bold;color:darkred\">Functions (Need) Exercises</span></div>"
   ]
  },
  {
   "cell_type": "code",
   "execution_count": 3,
   "id": "fe3988d9-2263-4c56-83a3-b31276f5a94f",
   "metadata": {},
   "outputs": [],
   "source": [
    "def greeting(name):\n",
    "    if name == 'Batman':\n",
    "        return 'Hello Batman! So, nice to meet you!'\n",
    "    return f'Hello {name}!'"
   ]
  },
  {
   "cell_type": "markdown",
   "id": "6d2c4610-8e69-443a-9bb7-322ce669f8df",
   "metadata": {},
   "source": [
    "The code has already defined a function as greeting(name)and the if statement already already checks if the name is Batman and will return the message if it is Batman. The else statement is not necessary as it will just go the Hello {name} line if the name is not Batman"
   ]
  },
  {
   "cell_type": "code",
   "execution_count": 14,
   "id": "15d49f9f-1031-47b9-87cb-beaf8e690d30",
   "metadata": {},
   "outputs": [
    {
     "name": "stdout",
     "output_type": "stream",
     "text": [
      "BMI Category: Underweight\n"
     ]
    }
   ],
   "source": [
    "def calculate_bmi(weight, height):\n",
    "    bmi = weight / (height ** 2)\n",
    "    if bmi >= 30:\n",
    "        return \"Obesity\"\n",
    "    if bmi >= 25:\n",
    "        return \"Overweight\"\n",
    "    if bmi >= 18.5:\n",
    "        return \"Normal weight\"\n",
    "    else: \n",
    "        return \"Underweight\" \n",
    "# example\n",
    "weight = 45  # kilograms\n",
    "height = 1.65  # meters\n",
    "bmi_category = calculate_bmi(weight, height)\n",
    "print(\"BMI Category:\", bmi_category)"
   ]
  }
 ],
 "metadata": {
  "kernelspec": {
   "display_name": "Python 3 (ipykernel)",
   "language": "python",
   "name": "python3"
  },
  "language_info": {
   "codemirror_mode": {
    "name": "ipython",
    "version": 3
   },
   "file_extension": ".py",
   "mimetype": "text/x-python",
   "name": "python",
   "nbconvert_exporter": "python",
   "pygments_lexer": "ipython3",
   "version": "3.11.5"
  },
  "toc": {
   "base_numbering": 1,
   "nav_menu": {},
   "number_sections": true,
   "sideBar": true,
   "skip_h1_title": false,
   "title_cell": "Table of Contents",
   "title_sidebar": "Contents",
   "toc_cell": false,
   "toc_position": {},
   "toc_section_display": true,
   "toc_window_display": false
  },
  "vscode": {
   "interpreter": {
    "hash": "31f2aee4e71d21fbe5cf8b01ff0e069b9275f58929596ceb00d14d90e3e16cd6"
   }
  }
 },
 "nbformat": 4,
 "nbformat_minor": 5
}
