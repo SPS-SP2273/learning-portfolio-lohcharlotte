{
 "cells": [
  {
   "attachments": {},
   "cell_type": "markdown",
   "id": "123456",
   "metadata": {},
   "source": [
    "<div style=\"text-align:left;font-size:2em\"><span style=\"font-weight:bolder;font-size:1.25em\">SP2273 | Learning Portfolio</span><br><br><span style=\"font-weight:bold;color:darkred\">Using Jupyter (Need), Exercises</span></div>"
   ]
  },
  {
   "attachments": {},
   "cell_type": "markdown",
   "id": "8ebde322",
   "metadata": {},
   "source": [
    "## Quadratic Equations"
   ]
  },
  {
   "attachments": {},
   "cell_type": "markdown",
   "id": "88b134a8",
   "metadata": {},
   "source": [
    "### Introduction"
   ]
  },
  {
   "cell_type": "markdown",
   "id": "9c6aa11d-fbe2-4af6-b717-f15a708f0182",
   "metadata": {},
   "source": [
    "![](https://upload.wikimedia.org/wikipedia/commons/thumb/f/f8/Polynomialdeg2.svg/300px-Polynomialdeg2.svg.png)"
   ]
  },
  {
   "cell_type": "markdown",
   "id": "a8d4635a-52a4-4f38-a1a6-1c9bea5ceea1",
   "metadata": {},
   "source": [
    "(Image from the [Wikipedia page on Quadratic equations](https://en.wikipedia.org/wiki/Quadratic_equation))"
   ]
  },
  {
   "cell_type": "markdown",
   "id": "46c6810b-7fc6-4ae3-9c16-4db2e2026c30",
   "metadata": {},
   "source": [
    "The general form of a quadratic equation is: "
   ]
  },
  {
   "cell_type": "markdown",
   "id": "6cf5abe5-f892-473e-940e-02edb2a28916",
   "metadata": {},
   "source": [
    "$ax^2+bx+c=0$"
   ]
  },
  {
   "attachments": {},
   "cell_type": "markdown",
   "id": "5139668d",
   "metadata": {},
   "source": [
    "### Solutions"
   ]
  },
  {
   "cell_type": "markdown",
   "id": "98b89c23-ba9f-4b78-b57f-46f031d8f368",
   "metadata": {},
   "source": [
    "Provided $a\\ne0$, we can use an elementary algebraic method called [completing the square](https://en.wikipedia.org/wiki/Completing_the_square) to show that a quadratic equation has the following solution: \n"
   ]
  },
  {
   "cell_type": "markdown",
   "id": "69f05c0b-b136-4116-bb16-3138c6c20fd9",
   "metadata": {},
   "source": [
    "$$\n",
    "x=\\dfrac{-b \\pm \\sqrt{b^2-4ac}}{2a}\n",
    "$$"
   ]
  },
  {
   "attachments": {},
   "cell_type": "markdown",
   "id": "a724394e",
   "metadata": {},
   "source": [
    "### Discriminant"
   ]
  },
  {
   "cell_type": "markdown",
   "id": "172cb4a4-a8e6-4cb4-9f1f-04c9ed741c9b",
   "metadata": {},
   "source": [
    "The quantity $\\Delta=b^2-4ac$ is called the **discriminant** of the equation and decides the nature of its solutions. The table below shows the various possibilites. "
   ]
  },
  {
   "cell_type": "markdown",
   "id": "7ea594d8-9c10-4af3-9911-ff822d229dad",
   "metadata": {},
   "source": [
    "| **Discriminat**    |  **Roots**  |   \n",
    "| :--- | :--: | \n",
    "| $\\Delta=b^2-4ac=0$   |  A single solution of $-b/(2a)$  |   \n",
    "| $\\Delta=b^2-4ac>0$   |  Two distinct solutions  |  \n",
    "| $\\Delta=b^2-4ac<0$   |  No real solutions; both are complex  |  "
   ]
  },
  {
   "cell_type": "markdown",
   "id": "45f8a6ca-03a7-4819-9513-bc5613acfd56",
   "metadata": {},
   "source": [
    "## Exercise 2"
   ]
  },
  {
   "cell_type": "markdown",
   "id": "59a55752-5cb0-48c7-b0e8-da31bdb64743",
   "metadata": {},
   "source": [
    "1. What is a Git **repository**?"
   ]
  },
  {
   "cell_type": "markdown",
   "id": "77e89241-ecd5-4c53-ba5f-c3be83952297",
   "metadata": {},
   "source": [
    "It tracks changes in the file and sharing of code with others. "
   ]
  },
  {
   "cell_type": "markdown",
   "id": "1e43e051-2465-4a42-ba50-654000325cfd",
   "metadata": {},
   "source": [
    "2. Git keeps track of _______ in the files in our repository."
   ]
  },
  {
   "cell_type": "markdown",
   "id": "bf2aa67e-3576-4087-b2ef-2c5e034a7133",
   "metadata": {},
   "source": [
    "Changes to the code."
   ]
  },
  {
   "cell_type": "markdown",
   "id": "c12c9854-0ca6-4b14-acda-382f7868fd2d",
   "metadata": {},
   "source": [
    "3. What is a **commit**?"
   ]
  },
  {
   "cell_type": "markdown",
   "id": "f632367d-27be-4a04-bc1b-54972af6ed06",
   "metadata": {},
   "source": [
    "Specifies what file changes to be recorded and briefly describes these changes. "
   ]
  },
  {
   "cell_type": "markdown",
   "id": "c94aef85-0bc9-45aa-a63d-5e6b1738b18b",
   "metadata": {},
   "source": [
    "4. What is a **push**?"
   ]
  },
  {
   "cell_type": "markdown",
   "id": "f78661d1-62a6-4cae-960d-4fd5eab4f64c",
   "metadata": {},
   "source": [
    "Share changes with GitHub and others sharing the repository. "
   ]
  },
  {
   "cell_type": "markdown",
   "id": "74263149-5a34-4ee9-9b83-90a090bd0829",
   "metadata": {},
   "source": [
    "5. What is a **pull**? "
   ]
  },
  {
   "cell_type": "markdown",
   "id": "771df986-780e-4225-9c92-19902b6dea67",
   "metadata": {},
   "source": [
    "Save changes from the cloud to the local device or machine. "
   ]
  },
  {
   "cell_type": "markdown",
   "id": "3633bb65-6aa3-4b91-8a1f-136a79ff2979",
   "metadata": {},
   "source": [
    "6. What is the difference between **GitHub** and **GitHub Desktop**?"
   ]
  },
  {
   "cell_type": "markdown",
   "id": "45e16b96-5097-453a-8bac-c311827c6979",
   "metadata": {},
   "source": [
    "GitHub Desktop is the copy of the repository stored on the local device or machine "
   ]
  }
 ],
 "metadata": {
  "kernelspec": {
   "display_name": "Python 3 (ipykernel)",
   "language": "python",
   "name": "python3"
  },
  "language_info": {
   "codemirror_mode": {
    "name": "ipython",
    "version": 3
   },
   "file_extension": ".py",
   "mimetype": "text/x-python",
   "name": "python",
   "nbconvert_exporter": "python",
   "pygments_lexer": "ipython3",
   "version": "3.11.5"
  },
  "toc": {
   "base_numbering": 1,
   "nav_menu": {},
   "number_sections": true,
   "sideBar": true,
   "skip_h1_title": false,
   "title_cell": "Table of Contents",
   "title_sidebar": "Contents",
   "toc_cell": false,
   "toc_position": {},
   "toc_section_display": true,
   "toc_window_display": false
  },
  "vscode": {
   "interpreter": {
    "hash": "31f2aee4e71d21fbe5cf8b01ff0e069b9275f58929596ceb00d14d90e3e16cd6"
   }
  }
 },
 "nbformat": 4,
 "nbformat_minor": 5
}
