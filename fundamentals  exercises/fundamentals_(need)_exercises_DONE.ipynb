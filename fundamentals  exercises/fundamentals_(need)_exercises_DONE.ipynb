{
 "cells": [
  {
   "cell_type": "markdown",
   "id": "123456",
   "metadata": {},
   "source": [
    "<div style=\"text-align:left;font-size:2em\"><span style=\"font-weight:bolder;font-size:1.25em\">SP2273 | Learning Portfolio</span><br><br><span style=\"font-weight:bold;color:darkred\">Fundamentals (Need) Exercises</span></div>"
   ]
  },
  {
   "cell_type": "markdown",
   "id": "bc490895",
   "metadata": {},
   "source": [
    "## **Exercise 1 (Total recall?)**"
   ]
  },
  {
   "cell_type": "markdown",
   "id": "16d3b90f",
   "metadata": {},
   "source": [
    "Can import packages like numpy and math "
   ]
  },
  {
   "cell_type": "markdown",
   "id": "660c7403",
   "metadata": {},
   "source": [
    "Can use different brackets like () and [] to indicate different things "
   ]
  },
  {
   "cell_type": "markdown",
   "id": "6684ef64",
   "metadata": {},
   "source": [
    "Use of comments "
   ]
  },
  {
   "cell_type": "markdown",
   "id": "f2156060",
   "metadata": {},
   "source": [
    "Can add extensions "
   ]
  },
  {
   "cell_type": "markdown",
   "id": "ee0cae3c",
   "metadata": {},
   "source": [
    "_Can use if to make decisions_"
   ]
  },
  {
   "cell_type": "markdown",
   "id": "cb6baccb",
   "metadata": {},
   "source": [
    "_a . can be used to indicate ownership_"
   ]
  },
  {
   "cell_type": "markdown",
   "id": "eb975dd5",
   "metadata": {},
   "source": [
    "_can embed links and images_"
   ]
  },
  {
   "cell_type": "markdown",
   "id": "ce05a097",
   "metadata": {},
   "source": [
    "_can produce math equations, lists, tables_"
   ]
  },
  {
   "cell_type": "markdown",
   "id": "e3d4aea5",
   "metadata": {},
   "source": [
    "_a lot of shortcuts, can run shell commands, and use kernel if there are errors_"
   ]
  },
  {
   "cell_type": "markdown",
   "id": "dfbef4a6",
   "metadata": {},
   "source": [
    "## **Exercise 2 (Debug me)**"
   ]
  },
  {
   "cell_type": "code",
   "execution_count": 4,
   "id": "7c7477f2",
   "metadata": {},
   "outputs": [],
   "source": [
    "import math         # Adding(importing) the functions\n",
    "                    # of the 'math' package    "
   ]
  },
  {
   "cell_type": "code",
   "execution_count": 5,
   "id": "c691ea7d",
   "metadata": {},
   "outputs": [],
   "source": [
    "import numpy as np    # Importing Numpy and giving \n",
    "                      # it an alias np \n",
    "                      # because I am lazy"
   ]
  },
  {
   "cell_type": "code",
   "execution_count": 7,
   "id": "0e98a386",
   "metadata": {},
   "outputs": [
    {
     "name": "stdout",
     "output_type": "stream",
     "text": [
      "3 4 5.0\n"
     ]
    }
   ],
   "source": [
    "x, y = 3, 4\n",
    "z = math.sqrt(x**2 + y**2)\n",
    "print(x, y, z)"
   ]
  },
  {
   "cell_type": "markdown",
   "id": "6efe471e",
   "metadata": {},
   "source": [
    "## **Exercise 3 (In your own words)**"
   ]
  },
  {
   "cell_type": "markdown",
   "id": "1987dd1b",
   "metadata": {},
   "source": [
    "| #    |  Term   |    Description |\n",
    "| :--- | :--: | ---: |\n",
    "| 1   |  Function  |   'something' that does a specific task |\n",
    "| 2   |  Arguments  |   the value that was is input into the function |\n",
    "| 3   |  Comments  |   additional information denoted with a # and will be ignored |\n",
    "| 4   |  Indentations  |   spaces, makes python easier to read |\n",
    "| 5   |  Packages  |   imbue python with more functions such as math |\n",
    "| 6   |  .  |   indicate ownership |\n",
    "| 7   |  :  |   a block of code |\n",
    "| 8   |  []  |   for lists of data |\n",
    "| 9   |  [[[]]]  |   it is a list within a list that is within another list |\n",
    "| 6   |  {}  |   to store data in the dictionary |"
   ]
  },
  {
   "cell_type": "markdown",
   "id": "cd23a26d",
   "metadata": {},
   "source": [
    "## **Exercise 4 (More than one way to divide)**"
   ]
  },
  {
   "cell_type": "code",
   "execution_count": 12,
   "id": "4a13360a",
   "metadata": {},
   "outputs": [
    {
     "data": {
      "text/plain": [
       "2.5"
      ]
     },
     "execution_count": 12,
     "metadata": {},
     "output_type": "execute_result"
    }
   ],
   "source": [
    "5/2           # What do I do?\n",
    "# This indicates that 5 is being divided by 2 to give 2.5 "
   ]
  },
  {
   "cell_type": "code",
   "execution_count": 13,
   "id": "27d910e0",
   "metadata": {},
   "outputs": [
    {
     "data": {
      "text/plain": [
       "2"
      ]
     },
     "execution_count": 13,
     "metadata": {},
     "output_type": "execute_result"
    }
   ],
   "source": [
    "5//2          # What do I do?\n",
    "# This indicates that 5 is being divided by 2, and the number rounded down to the nearest integer"
   ]
  },
  {
   "cell_type": "code",
   "execution_count": 15,
   "id": "be1b783e",
   "metadata": {},
   "outputs": [
    {
     "data": {
      "text/plain": [
       "1"
      ]
     },
     "execution_count": 15,
     "metadata": {},
     "output_type": "execute_result"
    }
   ],
   "source": [
    "5%2           # What do I do?\n",
    "# This gives the remainder when 5 is divided by 2. Since 5/2 is 2*2+1, 5%2 gives the remainder which is 1"
   ]
  }
 ],
 "metadata": {
  "kernelspec": {
   "display_name": "Python 3 (ipykernel)",
   "language": "python",
   "name": "python3"
  },
  "language_info": {
   "codemirror_mode": {
    "name": "ipython",
    "version": 3
   },
   "file_extension": ".py",
   "mimetype": "text/x-python",
   "name": "python",
   "nbconvert_exporter": "python",
   "pygments_lexer": "ipython3",
   "version": "3.11.5"
  },
  "toc": {
   "base_numbering": 1,
   "nav_menu": {},
   "number_sections": true,
   "sideBar": true,
   "skip_h1_title": false,
   "title_cell": "Table of Contents",
   "title_sidebar": "Contents",
   "toc_cell": false,
   "toc_position": {},
   "toc_section_display": true,
   "toc_window_display": false
  },
  "varInspector": {
   "cols": {
    "lenName": 16,
    "lenType": 16,
    "lenVar": 40
   },
   "kernels_config": {
    "python": {
     "delete_cmd_postfix": "",
     "delete_cmd_prefix": "del ",
     "library": "var_list.py",
     "varRefreshCmd": "print(var_dic_list())"
    },
    "r": {
     "delete_cmd_postfix": ") ",
     "delete_cmd_prefix": "rm(",
     "library": "var_list.r",
     "varRefreshCmd": "cat(var_dic_list()) "
    }
   },
   "types_to_exclude": [
    "module",
    "function",
    "builtin_function_or_method",
    "instance",
    "_Feature"
   ],
   "window_display": false
  },
  "vscode": {
   "interpreter": {
    "hash": "31f2aee4e71d21fbe5cf8b01ff0e069b9275f58929596ceb00d14d90e3e16cd6"
   }
  }
 },
 "nbformat": 4,
 "nbformat_minor": 5
}
