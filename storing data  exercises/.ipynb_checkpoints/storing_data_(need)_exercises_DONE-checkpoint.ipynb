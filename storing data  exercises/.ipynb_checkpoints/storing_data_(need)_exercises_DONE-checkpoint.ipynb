{
 "cells": [
  {
   "attachments": {},
   "cell_type": "markdown",
   "id": "123456",
   "metadata": {},
   "source": [
    "<div style=\"text-align:left;font-size:2em\"><span style=\"font-weight:bolder;font-size:1.25em\">SP2273 | Learning Portfolio</span><br><br><span style=\"font-weight:bold;color:darkred\">Storing Data (Need) Exercises</span></div>"
   ]
  },
  {
   "cell_type": "markdown",
   "id": "2be96793-bd9e-4e15-8c96-a666f3658f2f",
   "metadata": {},
   "source": [
    "Both arrays and lists need an index that corresponds to the position of the data. "
   ]
  },
  {
   "cell_type": "markdown",
   "id": "532714d2-eace-4517-a816-ba805609d809",
   "metadata": {},
   "source": [
    "Both arrays and lists usually need two lists (example to store real and fake superhero names), unlike the dictionary"
   ]
  },
  {
   "cell_type": "markdown",
   "id": "465ba3ae-a4b3-4ef9-b137-a38966d81e74",
   "metadata": {},
   "source": [
    "NumPy arrays can only have a single type, unlike lists"
   ]
  },
  {
   "cell_type": "markdown",
   "id": "5d377055-f76f-4ac9-be19-f490d4488cab",
   "metadata": {},
   "source": [
    "Operation on a list works on whole list but on an array, works on individual elements of the array"
   ]
  },
  {
   "cell_type": "markdown",
   "id": "efe4cd9b-a76d-4014-998f-c7663640491e",
   "metadata": {},
   "source": [
    "_Dictionary stores data and can hold multiple names in one structure_"
   ]
  },
  {
   "cell_type": "code",
   "execution_count": 1,
   "id": "16cbf79c-2cdc-44a4-ab53-a2586d52055a",
   "metadata": {},
   "outputs": [],
   "source": [
    "import numpy as np"
   ]
  },
  {
   "cell_type": "code",
   "execution_count": 2,
   "id": "be9380cf-f2e6-4adb-a97e-f8a9905d444c",
   "metadata": {},
   "outputs": [
    {
     "name": "stdout",
     "output_type": "stream",
     "text": [
      "a1\n",
      "c3\n",
      "e5\n",
      "g7\n",
      "i9\n"
     ]
    }
   ],
   "source": [
    "py_list = [\"a1\", \"b2\", \"c3\", \"d4\", \"e5\", \"f6\", \"g7\", \"h8\", \"i9\", \"j10\"]\n",
    "print(py_list[0]) # Prints 'a1'\n",
    "print(py_list[2]) # Prints 'c3'\n",
    "print(py_list[4]) # Prints 'e5'\n",
    "print(py_list[6]) # Prints 'g7'\n",
    "print(py_list[8]) # Prints 'i9'"
   ]
  },
  {
   "cell_type": "code",
   "execution_count": 3,
   "id": "f2156cf0-2d4f-4658-987e-486e577efb2d",
   "metadata": {},
   "outputs": [
    {
     "data": {
      "text/plain": [
       "'Boron'"
      ]
     },
     "execution_count": 3,
     "metadata": {},
     "output_type": "execute_result"
    }
   ],
   "source": [
    "py_elements = ['Hydrogen',\n",
    "            'Helium', 'Lithium',\n",
    "            'Beryllium', 'Boron', 'Carbon',\n",
    "            'Nitrogen', 'Oxygen',\n",
    "            'Fluorine',\n",
    "            'Neon']\n",
    "py_elements[4]"
   ]
  },
  {
   "cell_type": "code",
   "execution_count": 5,
   "id": "5b7d6187-bc20-400f-9254-714c8403054d",
   "metadata": {},
   "outputs": [
    {
     "data": {
      "text/plain": [
       "'Boron'"
      ]
     },
     "execution_count": 5,
     "metadata": {},
     "output_type": "execute_result"
    }
   ],
   "source": [
    "py_elements = ['Hydrogen',\n",
    "            'Helium', 'Lithium',\n",
    "            'Beryllium', 'Boron', 'Carbon',\n",
    "            'Nitrogen', 'Oxygen',\n",
    "            'Fluorine',\n",
    "            'Neon']\n",
    "py_elements[-6]"
   ]
  },
  {
   "cell_type": "code",
   "execution_count": 14,
   "id": "94884453-5d2e-4fa6-9a2c-81c5744cd6ae",
   "metadata": {},
   "outputs": [
    {
     "name": "stdout",
     "output_type": "stream",
     "text": [
      "Number of 1s: 9\n"
     ]
    }
   ],
   "source": [
    "py_numbers = [45, 60, 1, 30, 96, 1, 96, 57, 16, 1, 99, 62, 86, 43, 42, 60, 59, 1, 1, 35,\n",
    "           83, 47, 34, 28, 68, 23, 22, 92, 1, 79, 1, 29, 94, 72, 46, 47, 1, 74, 32, 20,\n",
    "           8, 37, 35, 1, 89, 29, 86, 19, 43, 61]\n",
    "np_array=np.array(py_numbers)\n",
    "number_of_ones = np.sum(numbers_array == 1)\n",
    "print(\"Number of 1s:\", number_of_ones)"
   ]
  }
 ],
 "metadata": {
  "kernelspec": {
   "display_name": "Python 3 (ipykernel)",
   "language": "python",
   "name": "python3"
  },
  "language_info": {
   "codemirror_mode": {
    "name": "ipython",
    "version": 3
   },
   "file_extension": ".py",
   "mimetype": "text/x-python",
   "name": "python",
   "nbconvert_exporter": "python",
   "pygments_lexer": "ipython3",
   "version": "3.11.5"
  },
  "toc": {
   "base_numbering": 1,
   "nav_menu": {},
   "number_sections": true,
   "sideBar": true,
   "skip_h1_title": false,
   "title_cell": "Table of Contents",
   "title_sidebar": "Contents",
   "toc_cell": false,
   "toc_position": {},
   "toc_section_display": true,
   "toc_window_display": false
  },
  "vscode": {
   "interpreter": {
    "hash": "31f2aee4e71d21fbe5cf8b01ff0e069b9275f58929596ceb00d14d90e3e16cd6"
   }
  }
 },
 "nbformat": 4,
 "nbformat_minor": 5
}
