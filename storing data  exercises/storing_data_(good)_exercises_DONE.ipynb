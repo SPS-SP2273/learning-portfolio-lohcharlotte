{
 "cells": [
  {
   "attachments": {},
   "cell_type": "markdown",
   "id": "123456",
   "metadata": {},
   "source": [
    "<div style=\"text-align:left;font-size:2em\"><span style=\"font-weight:bolder;font-size:1.25em\">SP2273 | Learning Portfolio</span><br><br><span style=\"font-weight:bold;color:darkred\">Storing Data (Good) Exercises</span></div>"
   ]
  },
  {
   "cell_type": "markdown",
   "id": "14822b74-f3a8-4e89-93d7-586f66ac6d9f",
   "metadata": {},
   "source": [
    "Subsetting: selecting a subset of the data in a list or array"
   ]
  },
  {
   "cell_type": "markdown",
   "id": "1653372b-0acd-412d-9c0d-4a7dd58dd8fb",
   "metadata": {},
   "source": [
    "Indexing: selecting one element "
   ]
  },
  {
   "cell_type": "markdown",
   "id": "1c93d11a-64e2-40af-a9a0-d4703109be3e",
   "metadata": {},
   "source": [
    "Slicing: selecting a range of elements"
   ]
  },
  {
   "cell_type": "markdown",
   "id": "878e5aa0-653a-4912-8448-20e2f07d7594",
   "metadata": {},
   "source": [
    "Masking: allows only a certain subset to be seen"
   ]
  },
  {
   "cell_type": "code",
   "execution_count": 4,
   "id": "b215d238-4b95-44e8-adc4-e3ba0785a26e",
   "metadata": {},
   "outputs": [
    {
     "name": "stdout",
     "output_type": "stream",
     "text": [
      "['A' 'C' 'E' 'G' 'I']\n"
     ]
    }
   ],
   "source": [
    "import numpy as np\n",
    "np_array_2d = np.array([[1, \"A\"], [3, \"C\"], [2, \"B\"], [4, \"D\"],\n",
    "                        [5, \"E\"], [7, \"G\"], [6, \"F\"], [8, \"H\"],\n",
    "                        [10, \"J\"], [9, \"I\"]])\n",
    "np_array_2d[:, 0].astype(int)%2\n",
    "mask = np_array_2d[:, 0].astype(int)%2 > 0\n",
    "print(np_array_2d[mask, 1])"
   ]
  }
 ],
 "metadata": {
  "kernelspec": {
   "display_name": "Python 3 (ipykernel)",
   "language": "python",
   "name": "python3"
  },
  "language_info": {
   "codemirror_mode": {
    "name": "ipython",
    "version": 3
   },
   "file_extension": ".py",
   "mimetype": "text/x-python",
   "name": "python",
   "nbconvert_exporter": "python",
   "pygments_lexer": "ipython3",
   "version": "3.11.5"
  },
  "toc": {
   "base_numbering": 1,
   "nav_menu": {},
   "number_sections": true,
   "sideBar": true,
   "skip_h1_title": false,
   "title_cell": "Table of Contents",
   "title_sidebar": "Contents",
   "toc_cell": false,
   "toc_position": {},
   "toc_section_display": true,
   "toc_window_display": false
  },
  "vscode": {
   "interpreter": {
    "hash": "31f2aee4e71d21fbe5cf8b01ff0e069b9275f58929596ceb00d14d90e3e16cd6"
   }
  }
 },
 "nbformat": 4,
 "nbformat_minor": 5
}
