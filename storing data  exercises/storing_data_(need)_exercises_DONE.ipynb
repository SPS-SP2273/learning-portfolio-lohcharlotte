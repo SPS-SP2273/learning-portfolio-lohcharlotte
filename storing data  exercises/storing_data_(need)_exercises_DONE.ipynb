{
 "cells": [
  {
   "attachments": {},
   "cell_type": "markdown",
   "id": "123456",
   "metadata": {},
   "source": [
    "<div style=\"text-align:left;font-size:2em\"><span style=\"font-weight:bolder;font-size:1.25em\">SP2273 | Learning Portfolio</span><br><br><span style=\"font-weight:bold;color:darkred\">Storing Data (Need) Exercises</span></div>"
   ]
  },
  {
   "cell_type": "markdown",
   "id": "3fbcac7e-f6a6-4de2-8d35-37a0fdf9794e",
   "metadata": {},
   "source": [
    "Both arrays and lists need an index that corresponds to the position of the data. \n"
   ]
  },
  {
   "cell_type": "markdown",
   "id": "9e70cdc6-3415-410b-8ca6-78f9f96b711e",
   "metadata": {},
   "source": [
    "Both arrays and lists usually need two lists (example to store real and fake superhero names), unlike the dictionary\n",
    "\n"
   ]
  },
  {
   "cell_type": "markdown",
   "id": "fcd69a0e-79f6-454b-b59a-3782523b65ab",
   "metadata": {},
   "source": [
    "NumPy arrays can only have a single type, unlike lists"
   ]
  },
  {
   "cell_type": "markdown",
   "id": "678222b9-001d-49de-8d09-250a444c2794",
   "metadata": {},
   "source": [
    "Operation on a list works on whole list but on an array, works on individual elements of the array"
   ]
  },
  {
   "cell_type": "markdown",
   "id": "ceacae30-937f-40f4-b648-e1e8a2f07d98",
   "metadata": {},
   "source": [
    "Dictionary stores data and can hold multiple names in one structure"
   ]
  },
  {
   "cell_type": "code",
   "execution_count": 1,
   "id": "2aeccddf-a2d2-43eb-8480-0f2b13a00141",
   "metadata": {},
   "outputs": [],
   "source": [
    "import numpy as np"
   ]
  },
  {
   "cell_type": "code",
   "execution_count": 2,
   "id": "b7575f8e-58db-49f2-8e8e-12b778415b14",
   "metadata": {},
   "outputs": [
    {
     "name": "stdout",
     "output_type": "stream",
     "text": [
      "a1\n",
      "c3\n",
      "e5\n",
      "g7\n",
      "i9\n"
     ]
    }
   ],
   "source": [
    "py_list = [\"a1\", \"b2\", \"c3\", \"d4\", \"e5\", \"f6\", \"g7\", \"h8\", \"i9\", \"j10\"]\n",
    "print(py_list[0]) # Prints 'a1'\n",
    "print(py_list[2]) # Prints 'c3'\n",
    "print(py_list[4]) # Prints 'e5'\n",
    "print(py_list[6]) # Prints 'g7'\n",
    "print(py_list[8]) # Prints 'i9'"
   ]
  },
  {
   "cell_type": "code",
   "execution_count": 3,
   "id": "9642da60-9b33-4cbd-8512-fca14f21b8d0",
   "metadata": {},
   "outputs": [
    {
     "data": {
      "text/plain": [
       "'Boron'"
      ]
     },
     "execution_count": 3,
     "metadata": {},
     "output_type": "execute_result"
    }
   ],
   "source": [
    "py_elements = ['Hydrogen',\n",
    "            'Helium', 'Lithium',\n",
    "            'Beryllium', 'Boron', 'Carbon',\n",
    "            'Nitrogen', 'Oxygen',\n",
    "            'Fluorine',\n",
    "            'Neon']\n",
    "py_elements[4]"
   ]
  },
  {
   "cell_type": "code",
   "execution_count": 4,
   "id": "f55c6315-9ff4-48bc-8f9f-073c2af9103f",
   "metadata": {},
   "outputs": [
    {
     "data": {
      "text/plain": [
       "'Boron'"
      ]
     },
     "execution_count": 4,
     "metadata": {},
     "output_type": "execute_result"
    }
   ],
   "source": [
    "py_elements = ['Hydrogen',\n",
    "            'Helium', 'Lithium',\n",
    "            'Beryllium', 'Boron', 'Carbon',\n",
    "            'Nitrogen', 'Oxygen',\n",
    "            'Fluorine',\n",
    "            'Neon']\n",
    "py_elements[-6]"
   ]
  },
  {
   "cell_type": "code",
   "execution_count": 10,
   "id": "4439732d-b714-4898-bb29-95fb4470f618",
   "metadata": {},
   "outputs": [
    {
     "name": "stdout",
     "output_type": "stream",
     "text": [
      "Number of 1s: 9\n"
     ]
    }
   ],
   "source": [
    "py_numbers = [45, 60, 1, 30, 96, 1, 96, 57, 16, 1, 99, 62, 86, 43, 42, 60, 59, 1, 1, 35,\n",
    "           83, 47, 34, 28, 68, 23, 22, 92, 1, 79, 1, 29, 94, 72, 46, 47, 1, 74, 32, 20,\n",
    "           8, 37, 35, 1, 89, 29, 86, 19, 43, 61]\n",
    "np_array=np.array(py_numbers)\n",
    "number_of_ones = np.sum(np_array == 1)\n",
    "print(\"Number of 1s:\", number_of_ones)"
   ]
  }
 ],
 "metadata": {
  "kernelspec": {
   "display_name": "Python 3 (ipykernel)",
   "language": "python",
   "name": "python3"
  },
  "language_info": {
   "codemirror_mode": {
    "name": "ipython",
    "version": 3
   },
   "file_extension": ".py",
   "mimetype": "text/x-python",
   "name": "python",
   "nbconvert_exporter": "python",
   "pygments_lexer": "ipython3",
   "version": "3.11.5"
  },
  "toc": {
   "base_numbering": 1,
   "nav_menu": {},
   "number_sections": true,
   "sideBar": true,
   "skip_h1_title": false,
   "title_cell": "Table of Contents",
   "title_sidebar": "Contents",
   "toc_cell": false,
   "toc_position": {},
   "toc_section_display": true,
   "toc_window_display": false
  },
  "vscode": {
   "interpreter": {
    "hash": "31f2aee4e71d21fbe5cf8b01ff0e069b9275f58929596ceb00d14d90e3e16cd6"
   }
  }
 },
 "nbformat": 4,
 "nbformat_minor": 5
}
